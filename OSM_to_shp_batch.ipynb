{
 "cells": [
  {
   "cell_type": "code",
   "execution_count": null,
   "metadata": {},
   "outputs": [],
   "source": [
    "# import required modules\n",
    "import osmnx as ox\n",
    "import os\n",
    "import re"
   ]
  },
  {
   "cell_type": "code",
   "execution_count": null,
   "metadata": {},
   "outputs": [],
   "source": [
    "# define input and output directories\n",
    "inDIR = '/Users/spk/Documents/GitHub/OSM_to_shp/osm_dir/'\n",
    "outDIR = '/Users/spk/Documents/GitHub/OSM_to_shp/shp_dir/'\n",
    "\n",
    "# create output directory if it does not exist\n",
    "if not os.path.exists(outDIR):\n",
    "    os.mkdir(outDIR)\n",
    "\n",
    "# get list of all filenames in input directory (and subdirectories)\n",
    "_, _, filenames = next(os.walk(inDIR))\n",
    "   \n",
    "# loop through all OSM files from input directory/subdirectories and save as .shp files in output directory\n",
    "for f in filenames:\n",
    "    print(f) # print filename\n",
    "    osm_geom = ox.geometries_from_xml(inDIR + f) # read in file\n",
    "    osm_geom.drop(columns=['nodes']).to_file(outDIR + re.sub('.osm', '.shp', f)) # save as .shp\n",
    "\n"
   ]
  }
 ],
 "metadata": {
  "kernelspec": {
   "display_name": "Python 3",
   "language": "python",
   "name": "python3"
  },
  "language_info": {
   "codemirror_mode": {
    "name": "ipython",
    "version": 3
   },
   "file_extension": ".py",
   "mimetype": "text/x-python",
   "name": "python",
   "nbconvert_exporter": "python",
   "pygments_lexer": "ipython3",
   "version": "3.8.3"
  }
 },
 "nbformat": 4,
 "nbformat_minor": 4
}
